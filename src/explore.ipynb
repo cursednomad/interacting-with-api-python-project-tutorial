{
    "cells": [
        {
            "cell_type": "markdown",
            "metadata": {},
            "source": [
                "# Explore here"
            ]
        },
        {
            "cell_type": "code",
            "execution_count": 3,
            "metadata": {},
            "outputs": [],
            "source": [
                "from dotenv import load_dotenv\n",
                "load_dotenv()\n",
                "import os\n",
                "\n",
                "client_id = os.environ.get(\"CLIENT_ID\")\n",
                "client_secret = os.environ.get(\"CLIENT_SECRET\")"
            ]
        },
        {
            "cell_type": "code",
            "execution_count": 4,
            "metadata": {},
            "outputs": [],
            "source": [
                "import spotipy\n",
                "spotipy.Spotify()\n",
                "from spotipy.oauth2 import SpotifyClientCredentials\n",
                "\n",
                "spotify = spotipy.Spotify(client_credentials_manager=SpotifyClientCredentials(client_id=client_id, client_secret=client_secret))"
            ]
        },
        {
            "cell_type": "code",
            "execution_count": 8,
            "metadata": {},
            "outputs": [],
            "source": [
                "Eminem = 'spotify:artist:7dGJo4pcD2V6oG8kP0tJRR'\n",
                "\n",
                "results = spotify.artist_top_tracks(Eminem)\n",
                "\n",
                "#GENERATES ERROR - NO CLEAR INSTRUCTIONS TO PROCEED!"
            ]
        },
        {
            "cell_type": "code",
            "execution_count": 9,
            "metadata": {},
            "outputs": [
                {
                    "name": "stdout",
                    "output_type": "stream",
                    "text": [
                        "track    : Without Me\n",
                        "cover art: https://i.scdn.co/image/ab67616d0000b2736ca5c90113b30c3c43ffb8f4\n",
                        "track    : Mockingbird\n",
                        "cover art: https://i.scdn.co/image/ab67616d0000b273726d48d93d02e1271774f023\n",
                        "track    : The Real Slim Shady\n",
                        "cover art: https://i.scdn.co/image/ab67616d0000b273dbb3dd82da45b7d7f31b1b42\n",
                        "track    : Lose Yourself\n",
                        "cover art: https://i.scdn.co/image/ab67616d0000b273eab40fc794b88b9d1e012578\n",
                        "track    : Love The Way You Lie\n",
                        "cover art: https://i.scdn.co/image/ab67616d0000b273c08d5fa5c0f1a834acef5100\n",
                        "track    : Godzilla (feat. Juice WRLD)\n",
                        "cover art: https://i.scdn.co/image/ab67616d0000b2732f44aec83b20e40f3baef73c\n",
                        "track    : Till I Collapse\n",
                        "cover art: https://i.scdn.co/image/ab67616d0000b2736ca5c90113b30c3c43ffb8f4\n",
                        "track    : Superman\n",
                        "cover art: https://i.scdn.co/image/ab67616d0000b2736ca5c90113b30c3c43ffb8f4\n",
                        "track    : Stan\n",
                        "cover art: https://i.scdn.co/image/ab67616d0000b273dbb3dd82da45b7d7f31b1b42\n",
                        "track    : The Monster\n",
                        "cover art: https://i.scdn.co/image/ab67616d0000b2733c65085a58aae2cccd892cbe\n"
                    ]
                }
            ],
            "source": [
                "for track in results['tracks'][:10]:\n",
                "    print('track    : ' + track['name'])\n",
                "    if track['preview_url'] is not None:\n",
                "        print(track['preview_url'])\n",
                "\n",
                "    print('cover art: ' + track['album']['images'][0]['url'])"
            ]
        },
        {
            "cell_type": "code",
            "execution_count": 10,
            "metadata": {},
            "outputs": [],
            "source": [
                "if results:\n",
                "  # We keep the \"tracks\" object of the answer\n",
                "  tracks = results[\"tracks\"]\n",
                "  # We select, for each song, the data we are interested in and discard the rest\n",
                "  tracks = [{k: (v/(1000*60))%60 if k == \"duration_ms\" else v for k, v in track.items() if k in [\"name\", \"popularity\", \"duration_ms\"]} for track in tracks]\n"
            ]
        },
        {
            "cell_type": "code",
            "execution_count": 11,
            "metadata": {},
            "outputs": [
                {
                    "name": "stdout",
                    "output_type": "stream",
                    "text": [
                        "   duration_ms                         name  popularity\n",
                        "3     5.441100                Lose Yourself          79\n",
                        "9     4.169800                  The Monster          80\n",
                        "8     6.735100                         Stan          82\n",
                        "7     5.838667                     Superman          83\n",
                        "5     3.513333  Godzilla (feat. Juice WRLD)          85\n",
                        "6     4.963100              Till I Collapse          85\n",
                        "4     4.389550         Love The Way You Lie          86\n",
                        "1     4.179333                  Mockingbird          87\n",
                        "2     4.736667          The Real Slim Shady          87\n",
                        "0     4.838667                   Without Me          88\n"
                    ]
                }
            ],
            "source": [
                "import pandas as pd\n",
                "tracks_df = pd.DataFrame.from_records(tracks)\n",
                "tracks_df.sort_values([\"popularity\"], inplace = True)\n",
                "\n",
                "print(tracks_df.head(10))"
            ]
        },
        {
            "cell_type": "code",
            "execution_count": 13,
            "metadata": {},
            "outputs": [
                {
                    "data": {
                        "image/png": "[encoded data removed]",
                        "text/plain": [
                            "<Figure size 640x480 with 1 Axes>"
                        ]
                    },
                    "metadata": {},
                    "output_type": "display_data"
                }
            ],
            "source": [
                "import seaborn as sns\n",
                "\n",
                "Tracks_Graph = sns.scatterplot (data = tracks_df, x = \"popularity\", y = \"duration_ms\")\n",
                "fig = Tracks_Graph.get_figure()"
            ]
        }
    ],
    "metadata": {
        "kernelspec": {
            "display_name": "Python 3.8.13 64-bit ('3.8.13')",
            "language": "python",
            "name": "python3"
        },
        "language_info": {
            "codemirror_mode": {
                "name": "ipython",
                "version": 3
            },
            "file_extension": ".py",
            "mimetype": "text/x-python",
            "name": "python",
            "nbconvert_exporter": "python",
            "pygments_lexer": "ipython3",
            "version": "3.11.4"
        },
        "orig_nbformat": 4,
        "vscode": {
            "interpreter": {
                "hash": "110cc1dee26208153f2972f08a2ad52b6a56238dc66d48e87fb757ef2996db56"
            }
        }
    },
    "nbformat": 4,
    "nbformat_minor": 2
}
